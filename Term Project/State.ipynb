{
 "cells": [
  {
   "cell_type": "markdown",
   "id": "f181c7bb",
   "metadata": {},
   "source": [
    "## Class State\n",
    "\n",
    "This class was designed to provide an agent the capability to travel between edges on a graph object. The class makes a game out of the task by providing options as an action space and keeping track of current state information."
   ]
  },
  {
   "cell_type": "code",
   "execution_count": 1,
   "id": "3f088891",
   "metadata": {},
   "outputs": [
    {
     "name": "stderr",
     "output_type": "stream",
     "text": [
      "C:\\Users\\mrcha\\AppData\\Local\\Programs\\Python\\Python39\\lib\\site-packages\\geopandas\\_compat.py:111: UserWarning: The Shapely GEOS version (3.10.2-CAPI-1.16.0) is incompatible with the GEOS version PyGEOS was compiled with (3.10.1-CAPI-1.16.0). Conversions between both will be slow.\n",
      "  warnings.warn(\n"
     ]
    }
   ],
   "source": [
    "from polypocket import StreetMap\n",
    "from polypocket import Enviroment\n",
    "from polypocket import generate"
   ]
  },
  {
   "cell_type": "markdown",
   "id": "19ca0850",
   "metadata": {},
   "source": [
    "### Generating a polygon for testing class"
   ]
  },
  {
   "cell_type": "code",
   "execution_count": 20,
   "id": "7d432107",
   "metadata": {},
   "outputs": [],
   "source": [
    "center = (-121.885254, 37.335796)\n",
    "dist = 350 # Meters\n",
    "\n",
    "# Creates polygon with given dimensions\n",
    "poly = StreetMap(center, dist)\n",
    "\n",
    "n_houses = 3 # Houses\n",
    "n_gasstations = 2 # Gas stations\n",
    "\n",
    "# Instructs class to generate random coordinate points within polygon\n",
    "objects = generate(streetmap=poly, houses=n_houses, gasstations=n_gasstations).get('osmids')\n",
    "\n",
    "# Instantiates enviroment\n",
    "env = Enviroment(poly.G, objects)"
   ]
  },
  {
   "cell_type": "markdown",
   "id": "61133b7f",
   "metadata": {},
   "source": [
    "### Class Source Code"
   ]
  },
  {
   "cell_type": "code",
   "execution_count": 28,
   "id": "aad4d015",
   "metadata": {},
   "outputs": [],
   "source": [
    "import numpy as np\n",
    "\n",
    "class State():\n",
    "       \n",
    "    def __init__(self, enviroment, start_position, \n",
    "                 gas_level=20, kpg=18, refuel_at=0.25, gas_price=5, \n",
    "                 target_value=100):\n",
    "        '''\n",
    "        This class was designed to provide an agent the capability to travel \n",
    "        between edges on a graph object. The class makes a game out of the \n",
    "        task by providing options as an action space and keeping track of \n",
    "        current state information.\n",
    "        \n",
    "        params: \n",
    "                enviroment:        Generated via polypocket.Enviroment\n",
    "                start_position:    Node_Id, should be a node available in enviroment\n",
    "                gas_level:         Default:20, Gallons of gas available to agent\n",
    "                kpg:               Default:18, Kilometers per gallon\n",
    "                refuel_at:         Default:0.25, Threshhold percent of gas_level before agent should refuel\n",
    "                gas_price:         Default:5, Cost per gallon of gas in dollars\n",
    "                target_value:      Default:100, Reward for visiting a target node\n",
    "        \n",
    "        attributes:\n",
    "                start:                Returns start_position\n",
    "                distance:             Returns total distance traveled\n",
    "                position:             Returns current position\n",
    "                gas:                  Returns current gas_level in gallons\n",
    "                max_gas:              Returns maximum gas_level in gallons\n",
    "                kpg:                  Returns fuel efficiency (constant)\n",
    "                refuel_at:            Returns threshhold percent of max_gas when agent will refuel\n",
    "                gas_price:            Returns the price of gas per gallon (constant)\n",
    "                cost:                 Returns the current total cost of the route\n",
    "                route:                Returns array of shape(s,) for each state; [position|state(by index)]\n",
    "                targets:              Returns array of shape(n,); [target]\n",
    "                gasstations:          Returns array of shape(n,); [gasstation]\n",
    "                remaining_targets:    Returns array of shape(n,); [remaining_target]\n",
    "                target_value:         Returns the reward for visiting a target\n",
    "                env:                  Returns array of shape(n, 5); \n",
    "                                          [edgeStart, edgeEnd, length, bool_is_remaining_target*1, bool_is_gasstation*1]\n",
    "                choices:              Returns action space as array of shape(n, 4); [choice_node, edge_attribudes]\n",
    "                \n",
    "        methods: \n",
    "                gas_percent(self):               Returns current level of gas as percent of maximum\n",
    "                choices(self):                   Returns available choices as rows in an array\n",
    "                set_position(self, position):    Functional-Changes current position of agent to provided position\n",
    "                                                 if position is valid choice\n",
    "        '''\n",
    "        # Validates start position\n",
    "        if start_position not in np.array([enviroment.nodes[:,0], enviroment.norm_nodes[:,0]]):\n",
    "            raise ValueError('start_position not within map.')\n",
    "        \n",
    "        self.start     = start_position\n",
    "        self.distance  = 0 # Total distance travelled\n",
    "        \n",
    "        self.position  = start_position\n",
    "        \n",
    "        self.gas       = gas_level\n",
    "        self.max_gas   = gas_level\n",
    "        self.kpg       = kpg\n",
    "        self.refuel_at = refuel_at\n",
    "        \n",
    "        self.gas_price = gas_price\n",
    "        self.cost      = 0\n",
    "        \n",
    "        self.route       = np.array(start_position)    \n",
    "        self.targets     = enviroment.norm_houses\n",
    "        self.gasstations = enviroment.norm_gasstations\n",
    "        \n",
    "        self.remaining_targets = enviroment.norm_houses\n",
    "        self.target_value = target_value\n",
    "        self.env = enviroment.norm_flagged_edges\n",
    "        \n",
    "        self.choices = self.env[self.env[:,0]==self.position][:,1:]\n",
    "        \n",
    "        \n",
    "    def gas_percent(self):\n",
    "        return self.gas/self.max_gas\n",
    "    \n",
    "    \n",
    "    def set_position(self, position):\n",
    "        \n",
    "        # Updates targets and env if position is target\n",
    "        def update_targets(self):\n",
    "            mask = np.where(self.remaining_targets == position) # Mask for updating targets\n",
    "            self.remaining_targets = np.delete(self.remaining_targets, mask) # Updates targets\n",
    "            self.env[:,3] = np.isin(self.env[:,1], self.remaining_targets)*1 # Updates enviroment\n",
    "        \n",
    "        # Refuels if position is gasstation\n",
    "        def refuel(self):\n",
    "            if self.gas_percent() <= self.refuel_at: # if gas is <= refuel at percent\n",
    "                gas_needed = self.max_gas-self.gas # Defines amount of gas needed\n",
    "                self.cost += gas_needed/self.gas_price # Adds cost of gas needed to route cost\n",
    "                self.gas   = self.max_gas # Resets gas to mac_gas\n",
    "   \n",
    "\n",
    "        # Prevents travelling to current location\n",
    "        if position == self.position:\n",
    "            raise AttributeError(f'{position} already occupies the current state.')\n",
    "        \n",
    "        # Updates attributes if arg was valid\n",
    "        if position in self.choices[:,0]:\n",
    "            length         = self.choices[self.choices[:,0] == position][:,-1]\n",
    "            self.distance += length\n",
    "            self.gas      -= length/self.kpg\n",
    "            self.position  = position\n",
    "            self.choices   = self.env[self.env[:,0]==self.position][:,1:]\n",
    "            self.route     = np.append(self.route, position)\n",
    "        else:\n",
    "            raise AttributeError(f'Can not travel to {position} from {self.position}. Refer to self.choices.')\n",
    "        \n",
    "        # Checks if position is target or gasstation\n",
    "        if position in self.remaining_targets:\n",
    "            update_targets(self)\n",
    "        if position in self.gasstations:\n",
    "            refuel(self)"
   ]
  },
  {
   "cell_type": "markdown",
   "id": "5daf0a64",
   "metadata": {},
   "source": [
    "### Example Usage"
   ]
  },
  {
   "cell_type": "markdown",
   "id": "a275737c",
   "metadata": {},
   "source": [
    "##### Creating an instance"
   ]
  },
  {
   "cell_type": "code",
   "execution_count": 22,
   "id": "f3178cf3",
   "metadata": {},
   "outputs": [],
   "source": [
    "start = 0\n",
    "state = State(env, start)"
   ]
  },
  {
   "cell_type": "markdown",
   "id": "76e8728c",
   "metadata": {},
   "source": [
    "##### Reviewing current data"
   ]
  },
  {
   "cell_type": "code",
   "execution_count": 23,
   "id": "44d9b526",
   "metadata": {},
   "outputs": [
    {
     "name": "stdout",
     "output_type": "stream",
     "text": [
      "Position: 0\n",
      "Gas: 20\n",
      "Max Gas: 20\n",
      "Distance Travelled: 0\n",
      "Remaining Targets: [ 3  3 15]\n",
      "Action Space: \n",
      "[[ 11.     52.473   0.      0.   ]\n",
      " [ 10.     72.482   0.      1.   ]\n",
      " [  1.    102.603   0.      0.   ]]\n"
     ]
    }
   ],
   "source": [
    "print(f'Position: {state.position}')\n",
    "print(f'Gas: {state.gas}')\n",
    "print(f'Max Gas: {state.max_gas}')\n",
    "print(f'Distance Travelled: {state.distance}')\n",
    "print(f'Remaining Targets: {state.remaining_targets}')\n",
    "print(f'Action Space: \\n{state.choices}')"
   ]
  },
  {
   "cell_type": "markdown",
   "id": "842dafc6",
   "metadata": {},
   "source": [
    "##### Travelling To A Target\n",
    "via random choices"
   ]
  },
  {
   "cell_type": "code",
   "execution_count": 24,
   "id": "4db39143",
   "metadata": {},
   "outputs": [
    {
     "name": "stdout",
     "output_type": "stream",
     "text": [
      "Position: 14.0\n",
      "Gas: [19.61111111]\n",
      "Max Gas: 20\n",
      "Distance Travelled: [7.]\n",
      "Remaining Targets: [ 3  3 15]\n",
      "Action Space: \n",
      "[[ 22.     61.129   0.      0.   ]\n",
      " [ 15.    109.162   1.      0.   ]]\n"
     ]
    }
   ],
   "source": [
    "# Bool mask of choices\n",
    "choices_is_target = np.isin(state.choices[:,0], state.remaining_targets)\n",
    "target_nearby = any(choices_is_target)\n",
    "\n",
    "# Updates position randomly until target is nearby\n",
    "while not target_nearby:\n",
    "    choice = np.random.choice(state.choices[:,0])\n",
    "    state.set_position(choice)\n",
    "    \n",
    "    # Bool mask of choices\n",
    "    choices_is_target = np.isin(state.choices[:,0], state.remaining_targets)\n",
    "    target_nearby = any(choices_is_target)\n",
    "\n",
    "# Prints data\n",
    "print(f'Position: {state.position}')\n",
    "print(f'Gas: {state.gas}')\n",
    "print(f'Max Gas: {state.max_gas}')\n",
    "print(f'Distance Travelled: {state.distance}')\n",
    "print(f'Remaining Targets: {state.remaining_targets}')\n",
    "print(f'Action Space: \\n{state.choices}')"
   ]
  },
  {
   "cell_type": "markdown",
   "id": "083c8da0",
   "metadata": {},
   "source": [
    "With the above status report, we can see that the nearby_target is 15. A mask can be used to select this, but I will do so manually below for a demonstration of how the status reprort updates remaining targets. Please keep in mind, the state does not currently end an episode if gas has run out. "
   ]
  },
  {
   "cell_type": "code",
   "execution_count": 26,
   "id": "1a9d32b1",
   "metadata": {},
   "outputs": [
    {
     "name": "stdout",
     "output_type": "stream",
     "text": [
      "Position: 15\n",
      "Gas: [19.61111111]\n",
      "Max Gas: 20\n",
      "Distance Travelled: [7.]\n",
      "Remaining Targets: [3 3]\n",
      "Action Space: \n",
      "[[  3.     27.169   1.      0.   ]\n",
      " [ 14.    109.162   0.      0.   ]]\n"
     ]
    }
   ],
   "source": [
    "state.set_position(15)\n",
    "\n",
    "# Prints data\n",
    "print(f'Position: {state.position}')\n",
    "print(f'Gas: {state.gas}')\n",
    "print(f'Max Gas: {state.max_gas}')\n",
    "print(f'Distance Travelled: {state.distance}')\n",
    "print(f'Remaining Targets: {state.remaining_targets}')\n",
    "print(f'Action Space: \\n{state.choices}')"
   ]
  },
  {
   "cell_type": "markdown",
   "id": "6d40ef5c",
   "metadata": {},
   "source": [
    "You can also review the route taken thus far easily using the route attribute"
   ]
  },
  {
   "cell_type": "code",
   "execution_count": 27,
   "id": "3c3d0b86",
   "metadata": {},
   "outputs": [
    {
     "data": {
      "text/plain": [
       "array([ 0.,  1.,  0., 10.,  9., 10.,  9., 10.,  7., 16.,  8., 16.,  8.,\n",
       "       16.,  7., 16.,  8.,  1.,  2.,  1.,  0.,  1.,  0., 10.,  7., 16.,\n",
       "        8., 16.,  8., 16.,  7., 16.,  7., 16.,  8.,  1.,  2.,  1.,  2.,\n",
       "       19., 20., 19.,  2.,  1.,  0., 11.,  0.,  1.,  0.,  1.,  2.,  1.,\n",
       "        0., 11., 12., 11.,  0.,  1.,  2., 19., 20., 19., 20., 19.,  2.,\n",
       "        1.,  0., 10.,  7., 16.,  8.,  1.,  2., 19., 13., 19.,  2.,  1.,\n",
       "        2.,  1.,  2.,  1.,  0., 10.,  7., 16., 17., 16., 17., 16.,  8.,\n",
       "        1.,  0., 11., 12., 11., 12., 11., 12., 11.,  0., 10.,  7., 16.,\n",
       "        7., 16., 17., 16.,  8.,  1.,  0., 11., 12., 11., 12., 11., 12.,\n",
       "       11.,  0., 11.,  0.,  1.,  2., 19.,  2., 19., 13., 22., 21., 22.,\n",
       "       14., 15.])"
      ]
     },
     "execution_count": 27,
     "metadata": {},
     "output_type": "execute_result"
    }
   ],
   "source": [
    "state.route"
   ]
  }
 ],
 "metadata": {
  "kernelspec": {
   "display_name": "Python 3 (ipykernel)",
   "language": "python",
   "name": "python3"
  },
  "language_info": {
   "codemirror_mode": {
    "name": "ipython",
    "version": 3
   },
   "file_extension": ".py",
   "mimetype": "text/x-python",
   "name": "python",
   "nbconvert_exporter": "python",
   "pygments_lexer": "ipython3",
   "version": "3.9.10"
  }
 },
 "nbformat": 4,
 "nbformat_minor": 5
}
